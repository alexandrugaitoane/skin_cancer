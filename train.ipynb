{
 "cells": [
  {
   "cell_type": "markdown",
   "metadata": {},
   "source": [
    "IMPORTING MODULES"
   ]
  },
  {
   "cell_type": "code",
   "execution_count": 1,
   "metadata": {},
   "outputs": [],
   "source": [
    "import numpy as np\n",
    "import pandas as pd\n",
    "import tensorflow as tf\n",
    "from matplotlib import pyplot as plt\n",
    "import os\n",
    "import shutil\n",
    "from imblearn.over_sampling import SMOTE\n",
    "from PIL import Image\n",
    "from io import BytesIO"
   ]
  },
  {
   "cell_type": "markdown",
   "metadata": {},
   "source": [
    "DATA PREPROCESSING"
   ]
  },
  {
   "cell_type": "code",
   "execution_count": null,
   "metadata": {},
   "outputs": [],
   "source": [
    "#reading the metadata file\n",
    "metadata = pd.read_csv('/Users/alex/Desktop/projects/SkinCancer/HAM10000_metadata.csv')\n",
    "metadata.head()"
   ]
  },
  {
   "cell_type": "code",
   "execution_count": 3,
   "metadata": {},
   "outputs": [
    {
     "data": {
      "text/plain": [
       "lesion_id        0\n",
       "image_id         0\n",
       "dx               0\n",
       "dx_type          0\n",
       "age             57\n",
       "sex              0\n",
       "localization     0\n",
       "dtype: int64"
      ]
     },
     "execution_count": 3,
     "metadata": {},
     "output_type": "execute_result"
    }
   ],
   "source": [
    "#checking for missing values\n",
    "metadata.isnull().sum()"
   ]
  },
  {
   "cell_type": "code",
   "execution_count": 4,
   "metadata": {},
   "outputs": [
    {
     "data": {
      "text/html": [
       "<div>\n",
       "<style scoped>\n",
       "    .dataframe tbody tr th:only-of-type {\n",
       "        vertical-align: middle;\n",
       "    }\n",
       "\n",
       "    .dataframe tbody tr th {\n",
       "        vertical-align: top;\n",
       "    }\n",
       "\n",
       "    .dataframe thead th {\n",
       "        text-align: right;\n",
       "    }\n",
       "</style>\n",
       "<table border=\"1\" class=\"dataframe\">\n",
       "  <thead>\n",
       "    <tr style=\"text-align: right;\">\n",
       "      <th></th>\n",
       "      <th>image_id</th>\n",
       "      <th>dx</th>\n",
       "    </tr>\n",
       "  </thead>\n",
       "  <tbody>\n",
       "    <tr>\n",
       "      <th>0</th>\n",
       "      <td>ISIC_0027419</td>\n",
       "      <td>bkl</td>\n",
       "    </tr>\n",
       "    <tr>\n",
       "      <th>1</th>\n",
       "      <td>ISIC_0025030</td>\n",
       "      <td>bkl</td>\n",
       "    </tr>\n",
       "    <tr>\n",
       "      <th>2</th>\n",
       "      <td>ISIC_0026769</td>\n",
       "      <td>bkl</td>\n",
       "    </tr>\n",
       "    <tr>\n",
       "      <th>3</th>\n",
       "      <td>ISIC_0025661</td>\n",
       "      <td>bkl</td>\n",
       "    </tr>\n",
       "    <tr>\n",
       "      <th>4</th>\n",
       "      <td>ISIC_0031633</td>\n",
       "      <td>bkl</td>\n",
       "    </tr>\n",
       "  </tbody>\n",
       "</table>\n",
       "</div>"
      ],
      "text/plain": [
       "       image_id   dx\n",
       "0  ISIC_0027419  bkl\n",
       "1  ISIC_0025030  bkl\n",
       "2  ISIC_0026769  bkl\n",
       "3  ISIC_0025661  bkl\n",
       "4  ISIC_0031633  bkl"
      ]
     },
     "execution_count": 4,
     "metadata": {},
     "output_type": "execute_result"
    }
   ],
   "source": [
    "#isolating the columns needed for directory preprocessing\n",
    "metadata = metadata[['image_id','dx']]\n",
    "metadata.head()"
   ]
  },
  {
   "cell_type": "code",
   "execution_count": 132,
   "metadata": {},
   "outputs": [],
   "source": [
    "#building a dictionary with every image_id and dx\n",
    "df = {}\n",
    "for image_id, dx in zip(metadata['image_id'], metadata['dx']):\n",
    "    df[image_id] = dx\n",
    "\n",
    "#moving every file by code into their specific dx directory\n",
    "files_in_source = os.listdir('/Users/alex/Desktop/projects/SkinCancer/dataset_pre')\n",
    "\n",
    "source_pathname = '/Users/alex/Desktop/projects/SkinCancer/dataset_pre'\n",
    "destination_pathname = '/Users/alex/Desktop/projects/SkinCancer/dataset'\n",
    "\n",
    "for elem_with_extension in files_in_source:\n",
    "    elem, extension = os.path.splitext(elem_with_extension)\n",
    "    if elem in df:\n",
    "        source_file_path = os.path.join(source_pathname, f'{elem}.jpg')\n",
    "        destination_folder = os.path.join(destination_pathname, df[elem])\n",
    "        destination_file_path = os.path.join(destination_folder, f'{elem}.jpg')        \n",
    "        shutil.copy(source_file_path, destination_file_path)"
   ]
  },
  {
   "cell_type": "markdown",
   "metadata": {},
   "source": [
    "LOADING THE DATASET"
   ]
  },
  {
   "cell_type": "code",
   "execution_count": 2,
   "metadata": {},
   "outputs": [
    {
     "name": "stdout",
     "output_type": "stream",
     "text": [
      "Found 10015 files belonging to 7 classes.\n"
     ]
    }
   ],
   "source": [
    "ds = tf.keras.preprocessing.image_dataset_from_directory('/Users/alex/Desktop/projects/SkinCancer/dataset', label_mode='categorical', batch_size=None, image_size=(100, 75))"
   ]
  },
  {
   "cell_type": "code",
   "execution_count": 3,
   "metadata": {},
   "outputs": [
    {
     "data": {
      "text/plain": [
       "['akiec', 'bcc', 'bkl', 'df', 'mel', 'nv', 'vasc']"
      ]
     },
     "execution_count": 3,
     "metadata": {},
     "output_type": "execute_result"
    }
   ],
   "source": [
    "class_names = ds.class_names\n",
    "class_names"
   ]
  },
  {
   "cell_type": "markdown",
   "metadata": {},
   "source": [
    "DEALING WITH CLASS IMBALANCE PROBLEM"
   ]
  },
  {
   "cell_type": "code",
   "execution_count": 5,
   "metadata": {},
   "outputs": [],
   "source": [
    "#creating a list of images and labels for better preprocessing\n",
    "images = []\n",
    "labels = []\n",
    "for image, label in ds:\n",
    "    images.append(image)\n",
    "    labels.append(label)"
   ]
  },
  {
   "cell_type": "code",
   "execution_count": 6,
   "metadata": {},
   "outputs": [
    {
     "data": {
      "text/plain": [
       "(10015, 100, 75, 3)"
      ]
     },
     "execution_count": 6,
     "metadata": {},
     "output_type": "execute_result"
    }
   ],
   "source": [
    "images = np.array(images)\n",
    "images.shape"
   ]
  },
  {
   "cell_type": "code",
   "execution_count": 7,
   "metadata": {},
   "outputs": [
    {
     "data": {
      "text/plain": [
       "(10015, 7)"
      ]
     },
     "execution_count": 7,
     "metadata": {},
     "output_type": "execute_result"
    }
   ],
   "source": [
    "labels = np.array(labels)\n",
    "labels.shape"
   ]
  },
  {
   "cell_type": "code",
   "execution_count": 8,
   "metadata": {},
   "outputs": [
    {
     "data": {
      "text/plain": [
       "(10015, 22500)"
      ]
     },
     "execution_count": 8,
     "metadata": {},
     "output_type": "execute_result"
    }
   ],
   "source": [
    "#creating the X dataset for SMOTE\n",
    "flatten = tf.keras.models.Sequential([\n",
    "    tf.keras.layers.Flatten()\n",
    "])\n",
    "X = flatten(images)\n",
    "X = X.numpy()\n",
    "X.shape"
   ]
  },
  {
   "cell_type": "code",
   "execution_count": 9,
   "metadata": {},
   "outputs": [
    {
     "data": {
      "text/plain": [
       "(10015,)"
      ]
     },
     "execution_count": 9,
     "metadata": {},
     "output_type": "execute_result"
    }
   ],
   "source": [
    "#creating the y dataset for SMOTE\n",
    "y = []\n",
    "for label in labels:\n",
    "    y.append(np.argmax(label))\n",
    "y = np.array(y)\n",
    "y.shape"
   ]
  },
  {
   "cell_type": "code",
   "execution_count": 10,
   "metadata": {},
   "outputs": [
    {
     "name": "stdout",
     "output_type": "stream",
     "text": [
      "Class 0: 327 samples\n",
      "Class 1: 514 samples\n",
      "Class 2: 1099 samples\n",
      "Class 3: 115 samples\n",
      "Class 4: 1113 samples\n",
      "Class 5: 6705 samples\n",
      "Class 6: 142 samples\n"
     ]
    }
   ],
   "source": [
    "#class counts before SMOTE\n",
    "unique_classes, class_counts = np.unique(y, return_counts=True)\n",
    "for cls, count in zip(unique_classes, class_counts):\n",
    "    print(f'Class {cls}: {count} samples')"
   ]
  },
  {
   "cell_type": "code",
   "execution_count": 11,
   "metadata": {},
   "outputs": [],
   "source": [
    "#using SMOTE for oversampling the minority classes\n",
    "smote = SMOTE(random_state=42)\n",
    "X_resampled, y_resampled = smote.fit_resample(X, y)"
   ]
  },
  {
   "cell_type": "code",
   "execution_count": 13,
   "metadata": {},
   "outputs": [
    {
     "name": "stdout",
     "output_type": "stream",
     "text": [
      "Class 0: 6705 samples\n",
      "Class 1: 6705 samples\n",
      "Class 2: 6705 samples\n",
      "Class 3: 6705 samples\n",
      "Class 4: 6705 samples\n",
      "Class 5: 6705 samples\n",
      "Class 6: 6705 samples\n"
     ]
    }
   ],
   "source": [
    "#class counts after SMOTE\n",
    "unique_classes, class_counts = np.unique(y_resampled, return_counts=True)\n",
    "for cls, count in zip(unique_classes, class_counts):\n",
    "    print(f'Class {cls}: {count} samples')"
   ]
  },
  {
   "cell_type": "code",
   "execution_count": 14,
   "metadata": {},
   "outputs": [
    {
     "data": {
      "text/plain": [
       "(46935, 100, 75, 3)"
      ]
     },
     "execution_count": 14,
     "metadata": {},
     "output_type": "execute_result"
    }
   ],
   "source": [
    "X_reshaped = np.reshape(X_resampled, (-1, 100, 75, 3))\n",
    "X_reshaped.shape"
   ]
  },
  {
   "cell_type": "code",
   "execution_count": 15,
   "metadata": {},
   "outputs": [
    {
     "data": {
      "text/plain": [
       "array([[0., 0., 0., ..., 0., 1., 0.],\n",
       "       [0., 0., 0., ..., 0., 1., 0.],\n",
       "       [0., 0., 0., ..., 0., 1., 0.],\n",
       "       ...,\n",
       "       [0., 0., 0., ..., 0., 0., 1.],\n",
       "       [0., 0., 0., ..., 0., 0., 1.],\n",
       "       [0., 0., 0., ..., 0., 0., 1.]], dtype=float32)"
      ]
     },
     "execution_count": 15,
     "metadata": {},
     "output_type": "execute_result"
    }
   ],
   "source": [
    "y_reshaped = tf.keras.utils.to_categorical(y_resampled)\n",
    "y_reshaped"
   ]
  },
  {
   "cell_type": "code",
   "execution_count": 16,
   "metadata": {},
   "outputs": [],
   "source": [
    "#rebuilding tensorflow dataset\n",
    "new_ds = tf.data.Dataset.from_tensor_slices((X_reshaped, y_reshaped))"
   ]
  },
  {
   "cell_type": "markdown",
   "metadata": {},
   "source": [
    "SPLITTING THE DATA"
   ]
  },
  {
   "cell_type": "code",
   "execution_count": 17,
   "metadata": {},
   "outputs": [],
   "source": [
    "#build a function to partition the data into training, validation and test data\n",
    "def validation_partition(df, train_split=0.8, val_split=0.1, shuffle=True, shuffle_size = 100):\n",
    "    df_size = len(df)\n",
    "    if shuffle:\n",
    "        df = df.shuffle(shuffle_size, seed=42)\n",
    "    \n",
    "    train_size = int(df_size*train_split)\n",
    "    val_size = int(df_size*val_split)\n",
    "    \n",
    "    \n",
    "    train_df = df.take(train_size)\n",
    "    val_df = df.skip(train_size).take(val_size)\n",
    "    test_df = df.skip(train_size+val_size)\n",
    "    return train_df, test_df, val_df\n",
    "\n",
    "train_df, test_df, val_df = validation_partition(new_ds, train_split=0.8, val_split=0.1, shuffle=True, shuffle_size=100)"
   ]
  },
  {
   "cell_type": "markdown",
   "metadata": {},
   "source": [
    "BUILDING A TENSORFLOW PIPELINE FOR BETTER COMPUTATION"
   ]
  },
  {
   "cell_type": "code",
   "execution_count": 18,
   "metadata": {},
   "outputs": [],
   "source": [
    "def make_pipe(DATA, RATE):\n",
    "    return DATA.batch(64).cache().shuffle(RATE).prefetch(tf.data.AUTOTUNE)\n",
    "\n",
    "train_df = make_pipe(train_df, 100)\n",
    "test_df = make_pipe(test_df, 100)\n",
    "val_df = make_pipe(val_df, 100)"
   ]
  },
  {
   "cell_type": "code",
   "execution_count": 19,
   "metadata": {},
   "outputs": [
    {
     "data": {
      "text/plain": [
       "(587, 74, 74)"
      ]
     },
     "execution_count": 19,
     "metadata": {},
     "output_type": "execute_result"
    }
   ],
   "source": [
    "len(train_df), len(val_df), len(test_df)"
   ]
  },
  {
   "cell_type": "markdown",
   "metadata": {},
   "source": [
    "VARIABLE DECLARATION"
   ]
  },
  {
   "cell_type": "code",
   "execution_count": 9,
   "metadata": {},
   "outputs": [],
   "source": [
    "#building a sequential layer that preprocess images (resizing, rescaling)\n",
    "IMAGE_WIDTH = 100\n",
    "IMAGE_HEIGHT = 75\n",
    "resize_and_rescale = tf.keras.Sequential([\n",
    "    tf.keras.layers.experimental.preprocessing.Resizing(IMAGE_WIDTH, IMAGE_HEIGHT),\n",
    "    tf.keras.layers.experimental.preprocessing.Rescaling(1.0/255)\n",
    "])"
   ]
  },
  {
   "cell_type": "code",
   "execution_count": 10,
   "metadata": {},
   "outputs": [],
   "source": [
    "BATCH_SIZE = 64\n",
    "LEARNING_RATE = 0.001\n",
    "THRESHOLD = 0.5\n",
    "METRICS = [\n",
    "    'accuracy',\n",
    "    tf.keras.metrics.AUC(num_thresholds=100, thresholds=[THRESHOLD]),\n",
    "    tf.keras.metrics.Precision(thresholds=THRESHOLD),\n",
    "    tf.keras.metrics.Recall(thresholds=THRESHOLD)\n",
    "]\n",
    "METRICS_LIST = ['accuracy', 'val_accuracy', 'loss', 'val_loss']\n",
    "EPOCHS = 100"
   ]
  },
  {
   "cell_type": "markdown",
   "metadata": {},
   "source": [
    "MODEL CREATION"
   ]
  },
  {
   "cell_type": "code",
   "execution_count": 28,
   "metadata": {},
   "outputs": [
    {
     "name": "stderr",
     "output_type": "stream",
     "text": [
      "WARNING:absl:At this time, the v2.11+ optimizer `tf.keras.optimizers.Adam` runs slowly on M1/M2 Macs, please use the legacy Keras optimizer instead, located at `tf.keras.optimizers.legacy.Adam`.\n"
     ]
    }
   ],
   "source": [
    "#build a function for model creation and customisation\n",
    "def create_model(LEARNING_RATE, METRICS):\n",
    "    model = tf.keras.models.Sequential([\n",
    "        resize_and_rescale,\n",
    "        tf.keras.layers.Conv2D(32, (3, 3,)),\n",
    "        tf.keras.layers.BatchNormalization(),\n",
    "        tf.keras.layers.MaxPooling2D(),\n",
    "        tf.keras.layers.Conv2D(64, (3, 3,)),\n",
    "        tf.keras.layers.BatchNormalization(),\n",
    "        tf.keras.layers.MaxPooling2D(),\n",
    "        tf.keras.layers.Conv2D(128, (3, 3,)),\n",
    "        tf.keras.layers.BatchNormalization(),\n",
    "        tf.keras.layers.MaxPooling2D(),\n",
    "        tf.keras.layers.Flatten(),\n",
    "        tf.keras.layers.Dense(256, activation='relu'),\n",
    "        tf.keras.layers.Dense(7, activation='softmax'),])\n",
    "    \n",
    "    model.build(input_shape=(None, IMAGE_WIDTH, IMAGE_HEIGHT, 3))\n",
    "    model.compile(\n",
    "        optimizer=tf.keras.optimizers.Adam(learning_rate=LEARNING_RATE),\n",
    "        loss = tf.keras.losses.CategoricalCrossentropy(),\n",
    "        metrics = METRICS)\n",
    "    return model\n",
    "\n",
    "my_model = create_model(LEARNING_RATE, METRICS)"
   ]
  },
  {
   "cell_type": "code",
   "execution_count": 29,
   "metadata": {},
   "outputs": [
    {
     "name": "stdout",
     "output_type": "stream",
     "text": [
      "Model: \"sequential_3\"\n",
      "_________________________________________________________________\n",
      " Layer (type)                Output Shape              Param #   \n",
      "=================================================================\n",
      " sequential_1 (Sequential)   (None, 100, 75, 3)        0         \n",
      "                                                                 \n",
      " conv2d_3 (Conv2D)           (None, 98, 73, 32)        896       \n",
      "                                                                 \n",
      " batch_normalization_3 (Bat  (None, 98, 73, 32)        128       \n",
      " chNormalization)                                                \n",
      "                                                                 \n",
      " max_pooling2d_3 (MaxPoolin  (None, 49, 36, 32)        0         \n",
      " g2D)                                                            \n",
      "                                                                 \n",
      " conv2d_4 (Conv2D)           (None, 47, 34, 64)        18496     \n",
      "                                                                 \n",
      " batch_normalization_4 (Bat  (None, 47, 34, 64)        256       \n",
      " chNormalization)                                                \n",
      "                                                                 \n",
      " max_pooling2d_4 (MaxPoolin  (None, 23, 17, 64)        0         \n",
      " g2D)                                                            \n",
      "                                                                 \n",
      " conv2d_5 (Conv2D)           (None, 21, 15, 128)       73856     \n",
      "                                                                 \n",
      " batch_normalization_5 (Bat  (None, 21, 15, 128)       512       \n",
      " chNormalization)                                                \n",
      "                                                                 \n",
      " max_pooling2d_5 (MaxPoolin  (None, 10, 7, 128)        0         \n",
      " g2D)                                                            \n",
      "                                                                 \n",
      " flatten_2 (Flatten)         (None, 8960)              0         \n",
      "                                                                 \n",
      " dense_1 (Dense)             (None, 256)               2294016   \n",
      "                                                                 \n",
      " dense_2 (Dense)             (None, 7)                 1799      \n",
      "                                                                 \n",
      "=================================================================\n",
      "Total params: 2389959 (9.12 MB)\n",
      "Trainable params: 2389511 (9.12 MB)\n",
      "Non-trainable params: 448 (1.75 KB)\n",
      "_________________________________________________________________\n"
     ]
    }
   ],
   "source": [
    "my_model.summary()"
   ]
  },
  {
   "cell_type": "markdown",
   "metadata": {},
   "source": [
    "MODEL TRAINING"
   ]
  },
  {
   "cell_type": "code",
   "execution_count": 30,
   "metadata": {},
   "outputs": [],
   "source": [
    "#create callbacks for saving the best weights, for dynamic learning rate and early stopping\n",
    "checkpoint_filepath = 'best_model.h5'\n",
    "model_checkpoint_callback = tf.keras.callbacks.ModelCheckpoint(\n",
    "    filepath=checkpoint_filepath,\n",
    "    save_best_only=True,\n",
    "    monitor='val_loss',\n",
    "    mode='min',\n",
    "    verbose=1\n",
    ")\n",
    "\n",
    "reduce_lr_callback = tf.keras.callbacks.ReduceLROnPlateau(\n",
    "    monitor='val_loss',\n",
    "    factor = 0.2,\n",
    "    patience=3,\n",
    "    min_lr=0.00001,\n",
    "    verbose=1\n",
    ")\n",
    "\n",
    "early_stopping_callback = tf.keras.callbacks.EarlyStopping(\n",
    "    monitor='val_loss',\n",
    "    patience=5,\n",
    "    verbose=1,\n",
    "    restore_best_weights=True\n",
    ")"
   ]
  },
  {
   "cell_type": "code",
   "execution_count": 31,
   "metadata": {},
   "outputs": [
    {
     "name": "stdout",
     "output_type": "stream",
     "text": [
      "Epoch 1/100\n",
      "587/587 [==============================] - ETA: 0s - loss: 1.0297 - accuracy: 0.6857 - auc: 0.7843 - precision: 0.7469 - recall: 0.6026\n",
      "Epoch 1: val_loss improved from inf to 6.87854, saving model to best_model.h5\n",
      "587/587 [==============================] - 135s 228ms/step - loss: 1.0297 - accuracy: 0.6857 - auc: 0.7843 - precision: 0.7469 - recall: 0.6026 - val_loss: 6.8785 - val_accuracy: 0.5706 - val_auc: 0.7512 - val_precision: 0.6031 - val_recall: 0.5642 - lr: 0.0010\n",
      "Epoch 2/100\n",
      "587/587 [==============================] - ETA: 0s - loss: 0.7393 - accuracy: 0.7531 - auc: 0.8295 - precision: 0.8177 - recall: 0.6843\n",
      "Epoch 2: val_loss improved from 6.87854 to 6.57133, saving model to best_model.h5\n",
      "587/587 [==============================] - 134s 228ms/step - loss: 0.7393 - accuracy: 0.7531 - auc: 0.8295 - precision: 0.8177 - recall: 0.6843 - val_loss: 6.5713 - val_accuracy: 0.2376 - val_auc: 0.5400 - val_precision: 0.2249 - val_recall: 0.1879 - lr: 0.0010\n",
      "Epoch 3/100\n",
      "587/587 [==============================] - ETA: 0s - loss: 0.5389 - accuracy: 0.8164 - auc: 0.8746 - precision: 0.8660 - recall: 0.7691\n",
      "Epoch 3: val_loss improved from 6.57133 to 2.96535, saving model to best_model.h5\n",
      "587/587 [==============================] - 137s 233ms/step - loss: 0.5389 - accuracy: 0.8164 - auc: 0.8746 - precision: 0.8660 - recall: 0.7691 - val_loss: 2.9654 - val_accuracy: 0.4213 - val_auc: 0.6497 - val_precision: 0.4520 - val_recall: 0.3752 - lr: 0.0010\n",
      "Epoch 4/100\n",
      "587/587 [==============================] - ETA: 0s - loss: 0.3903 - accuracy: 0.8632 - auc: 0.9087 - precision: 0.8956 - recall: 0.8335\n",
      "Epoch 4: val_loss improved from 2.96535 to 2.52950, saving model to best_model.h5\n",
      "587/587 [==============================] - 139s 236ms/step - loss: 0.3903 - accuracy: 0.8632 - auc: 0.9087 - precision: 0.8956 - recall: 0.8335 - val_loss: 2.5295 - val_accuracy: 0.4724 - val_auc: 0.6708 - val_precision: 0.4899 - val_recall: 0.4134 - lr: 0.0010\n",
      "Epoch 5/100\n",
      "587/587 [==============================] - ETA: 0s - loss: 0.3598 - accuracy: 0.8740 - auc: 0.9164 - precision: 0.9037 - recall: 0.8479\n",
      "Epoch 5: val_loss did not improve from 2.52950\n",
      "587/587 [==============================] - 147s 250ms/step - loss: 0.3598 - accuracy: 0.8740 - auc: 0.9164 - precision: 0.9037 - recall: 0.8479 - val_loss: 6.7565 - val_accuracy: 0.3164 - val_auc: 0.5880 - val_precision: 0.3224 - val_recall: 0.2710 - lr: 0.0010\n",
      "Epoch 6/100\n",
      "587/587 [==============================] - ETA: 0s - loss: 0.2889 - accuracy: 0.8976 - auc: 0.9307 - precision: 0.9240 - recall: 0.8733\n",
      "Epoch 6: val_loss improved from 2.52950 to 2.36982, saving model to best_model.h5\n",
      "587/587 [==============================] - 158s 269ms/step - loss: 0.2889 - accuracy: 0.8976 - auc: 0.9307 - precision: 0.9240 - recall: 0.8733 - val_loss: 2.3698 - val_accuracy: 0.5930 - val_auc: 0.7572 - val_precision: 0.6008 - val_recall: 0.5785 - lr: 0.0010\n",
      "Epoch 7/100\n",
      "587/587 [==============================] - ETA: 0s - loss: 0.2782 - accuracy: 0.9027 - auc: 0.9348 - precision: 0.9243 - recall: 0.8817\n",
      "Epoch 7: val_loss did not improve from 2.36982\n",
      "587/587 [==============================] - 177s 301ms/step - loss: 0.2782 - accuracy: 0.9027 - auc: 0.9348 - precision: 0.9243 - recall: 0.8817 - val_loss: 8.8269 - val_accuracy: 0.3000 - val_auc: 0.5900 - val_precision: 0.3038 - val_recall: 0.2913 - lr: 0.0010\n",
      "Epoch 8/100\n",
      "587/587 [==============================] - ETA: 0s - loss: 0.2540 - accuracy: 0.9079 - auc: 0.9391 - precision: 0.9273 - recall: 0.8898\n",
      "Epoch 8: val_loss did not improve from 2.36982\n",
      "587/587 [==============================] - 173s 294ms/step - loss: 0.2540 - accuracy: 0.9079 - auc: 0.9391 - precision: 0.9273 - recall: 0.8898 - val_loss: 2.4446 - val_accuracy: 0.6045 - val_auc: 0.7650 - val_precision: 0.6321 - val_recall: 0.5868 - lr: 0.0010\n",
      "Epoch 9/100\n",
      "587/587 [==============================] - ETA: 0s - loss: 0.2018 - accuracy: 0.9293 - auc: 0.9534 - precision: 0.9433 - recall: 0.9160\n",
      "Epoch 9: val_loss improved from 2.36982 to 1.74379, saving model to best_model.h5\n",
      "587/587 [==============================] - 162s 276ms/step - loss: 0.2018 - accuracy: 0.9293 - auc: 0.9534 - precision: 0.9433 - recall: 0.9160 - val_loss: 1.7438 - val_accuracy: 0.4961 - val_auc: 0.6981 - val_precision: 0.5080 - val_recall: 0.4724 - lr: 0.0010\n",
      "Epoch 10/100\n",
      "587/587 [==============================] - ETA: 0s - loss: 0.1781 - accuracy: 0.9375 - auc: 0.9590 - precision: 0.9498 - recall: 0.9263\n",
      "Epoch 10: val_loss improved from 1.74379 to 1.25747, saving model to best_model.h5\n",
      "587/587 [==============================] - 150s 256ms/step - loss: 0.1781 - accuracy: 0.9375 - auc: 0.9590 - precision: 0.9498 - recall: 0.9263 - val_loss: 1.2575 - val_accuracy: 0.6691 - val_auc: 0.7999 - val_precision: 0.6922 - val_recall: 0.6478 - lr: 0.0010\n",
      "Epoch 11/100\n",
      "587/587 [==============================] - ETA: 0s - loss: 0.1663 - accuracy: 0.9393 - auc: 0.9605 - precision: 0.9510 - recall: 0.9289\n",
      "Epoch 11: val_loss did not improve from 1.25747\n",
      "587/587 [==============================] - 148s 252ms/step - loss: 0.1663 - accuracy: 0.9393 - auc: 0.9605 - precision: 0.9510 - recall: 0.9289 - val_loss: 1.6815 - val_accuracy: 0.6793 - val_auc: 0.8088 - val_precision: 0.7022 - val_recall: 0.6646 - lr: 0.0010\n",
      "Epoch 12/100\n",
      "587/587 [==============================] - ETA: 0s - loss: 0.1242 - accuracy: 0.9567 - auc: 0.9721 - precision: 0.9630 - recall: 0.9503\n",
      "Epoch 12: val_loss did not improve from 1.25747\n",
      "587/587 [==============================] - 147s 250ms/step - loss: 0.1242 - accuracy: 0.9567 - auc: 0.9721 - precision: 0.9630 - recall: 0.9503 - val_loss: 2.0162 - val_accuracy: 0.5642 - val_auc: 0.7414 - val_precision: 0.5761 - val_recall: 0.5502 - lr: 0.0010\n",
      "Epoch 13/100\n",
      "587/587 [==============================] - ETA: 0s - loss: 0.1062 - accuracy: 0.9622 - auc: 0.9762 - precision: 0.9666 - recall: 0.9578\n",
      "Epoch 13: val_loss improved from 1.25747 to 0.26693, saving model to best_model.h5\n",
      "587/587 [==============================] - 156s 267ms/step - loss: 0.1062 - accuracy: 0.9622 - auc: 0.9762 - precision: 0.9666 - recall: 0.9578 - val_loss: 0.2669 - val_accuracy: 0.9054 - val_auc: 0.9436 - val_precision: 0.9159 - val_recall: 0.9009 - lr: 0.0010\n",
      "Epoch 14/100\n",
      "587/587 [==============================] - ETA: 0s - loss: 0.1121 - accuracy: 0.9611 - auc: 0.9754 - precision: 0.9654 - recall: 0.9565\n",
      "Epoch 14: val_loss did not improve from 0.26693\n",
      "587/587 [==============================] - 173s 296ms/step - loss: 0.1121 - accuracy: 0.9611 - auc: 0.9754 - precision: 0.9654 - recall: 0.9565 - val_loss: 0.6580 - val_accuracy: 0.8551 - val_auc: 0.9126 - val_precision: 0.8618 - val_recall: 0.8479 - lr: 0.0010\n",
      "Epoch 15/100\n",
      "587/587 [==============================] - ETA: 0s - loss: 0.0851 - accuracy: 0.9701 - auc: 0.9816 - precision: 0.9731 - recall: 0.9677\n",
      "Epoch 15: val_loss did not improve from 0.26693\n",
      "587/587 [==============================] - 173s 295ms/step - loss: 0.0851 - accuracy: 0.9701 - auc: 0.9816 - precision: 0.9731 - recall: 0.9677 - val_loss: 0.7894 - val_accuracy: 0.7656 - val_auc: 0.8594 - val_precision: 0.7791 - val_recall: 0.7545 - lr: 0.0010\n",
      "Epoch 16/100\n",
      "587/587 [==============================] - ETA: 0s - loss: 0.0850 - accuracy: 0.9713 - auc: 0.9822 - precision: 0.9740 - recall: 0.9687\n",
      "Epoch 16: val_loss did not improve from 0.26693\n",
      "\n",
      "Epoch 16: ReduceLROnPlateau reducing learning rate to 0.00020000000949949026.\n",
      "587/587 [==============================] - 167s 284ms/step - loss: 0.0850 - accuracy: 0.9713 - auc: 0.9822 - precision: 0.9740 - recall: 0.9687 - val_loss: 10.3570 - val_accuracy: 0.3316 - val_auc: 0.6080 - val_precision: 0.3330 - val_recall: 0.3243 - lr: 0.0010\n",
      "Epoch 17/100\n",
      "587/587 [==============================] - ETA: 0s - loss: 0.0541 - accuracy: 0.9823 - auc: 0.9890 - precision: 0.9842 - recall: 0.9806\n",
      "Epoch 17: val_loss improved from 0.26693 to 0.18161, saving model to best_model.h5\n",
      "587/587 [==============================] - 154s 263ms/step - loss: 0.0541 - accuracy: 0.9823 - auc: 0.9890 - precision: 0.9842 - recall: 0.9806 - val_loss: 0.1816 - val_accuracy: 0.9410 - val_auc: 0.9625 - val_precision: 0.9485 - val_recall: 0.9335 - lr: 2.0000e-04\n",
      "Epoch 18/100\n",
      "587/587 [==============================] - ETA: 0s - loss: 0.0243 - accuracy: 0.9929 - auc: 0.9954 - precision: 0.9935 - recall: 0.9920\n",
      "Epoch 18: val_loss improved from 0.18161 to 0.13402, saving model to best_model.h5\n",
      "587/587 [==============================] - 153s 261ms/step - loss: 0.0243 - accuracy: 0.9929 - auc: 0.9954 - precision: 0.9935 - recall: 0.9920 - val_loss: 0.1340 - val_accuracy: 0.9606 - val_auc: 0.9754 - val_precision: 0.9625 - val_recall: 0.9570 - lr: 2.0000e-04\n",
      "Epoch 19/100\n",
      "587/587 [==============================] - ETA: 0s - loss: 0.0197 - accuracy: 0.9944 - auc: 0.9966 - precision: 0.9949 - recall: 0.9940\n",
      "Epoch 19: val_loss did not improve from 0.13402\n",
      "587/587 [==============================] - 153s 261ms/step - loss: 0.0197 - accuracy: 0.9944 - auc: 0.9966 - precision: 0.9949 - recall: 0.9940 - val_loss: 0.1485 - val_accuracy: 0.9499 - val_auc: 0.9690 - val_precision: 0.9538 - val_recall: 0.9457 - lr: 2.0000e-04\n",
      "Epoch 20/100\n",
      "587/587 [==============================] - ETA: 0s - loss: 0.0145 - accuracy: 0.9965 - auc: 0.9978 - precision: 0.9969 - recall: 0.9961\n",
      "Epoch 20: val_loss improved from 0.13402 to 0.09643, saving model to best_model.h5\n",
      "587/587 [==============================] - 149s 255ms/step - loss: 0.0145 - accuracy: 0.9965 - auc: 0.9978 - precision: 0.9969 - recall: 0.9961 - val_loss: 0.0964 - val_accuracy: 0.9665 - val_auc: 0.9793 - val_precision: 0.9689 - val_recall: 0.9638 - lr: 2.0000e-04\n",
      "Epoch 21/100\n",
      "587/587 [==============================] - ETA: 0s - loss: 0.0106 - accuracy: 0.9975 - auc: 0.9985 - precision: 0.9977 - recall: 0.9974\n",
      "Epoch 21: val_loss did not improve from 0.09643\n",
      "587/587 [==============================] - 138s 234ms/step - loss: 0.0106 - accuracy: 0.9975 - auc: 0.9985 - precision: 0.9977 - recall: 0.9974 - val_loss: 0.1323 - val_accuracy: 0.9548 - val_auc: 0.9728 - val_precision: 0.9588 - val_recall: 0.9525 - lr: 2.0000e-04\n",
      "Epoch 22/100\n",
      "587/587 [==============================] - ETA: 0s - loss: 0.0080 - accuracy: 0.9984 - auc: 0.9991 - precision: 0.9985 - recall: 0.9983\n",
      "Epoch 22: val_loss did not improve from 0.09643\n",
      "587/587 [==============================] - 135s 230ms/step - loss: 0.0080 - accuracy: 0.9984 - auc: 0.9991 - precision: 0.9985 - recall: 0.9983 - val_loss: 0.1030 - val_accuracy: 0.9625 - val_auc: 0.9774 - val_precision: 0.9655 - val_recall: 0.9606 - lr: 2.0000e-04\n",
      "Epoch 23/100\n",
      "587/587 [==============================] - ETA: 0s - loss: 0.0071 - accuracy: 0.9984 - auc: 0.9991 - precision: 0.9986 - recall: 0.9983\n",
      "Epoch 23: val_loss did not improve from 0.09643\n",
      "\n",
      "Epoch 23: ReduceLROnPlateau reducing learning rate to 4.0000001899898055e-05.\n",
      "587/587 [==============================] - 142s 242ms/step - loss: 0.0071 - accuracy: 0.9984 - auc: 0.9991 - precision: 0.9986 - recall: 0.9983 - val_loss: 0.1220 - val_accuracy: 0.9548 - val_auc: 0.9729 - val_precision: 0.9562 - val_recall: 0.9531 - lr: 2.0000e-04\n",
      "Epoch 24/100\n",
      "587/587 [==============================] - ETA: 0s - loss: 0.0055 - accuracy: 0.9993 - auc: 0.9996 - precision: 0.9994 - recall: 0.9992\n",
      "Epoch 24: val_loss improved from 0.09643 to 0.09035, saving model to best_model.h5\n",
      "587/587 [==============================] - 143s 244ms/step - loss: 0.0055 - accuracy: 0.9993 - auc: 0.9996 - precision: 0.9994 - recall: 0.9992 - val_loss: 0.0903 - val_accuracy: 0.9659 - val_auc: 0.9795 - val_precision: 0.9685 - val_recall: 0.9642 - lr: 4.0000e-05\n",
      "Epoch 25/100\n",
      "587/587 [==============================] - ETA: 0s - loss: 0.0040 - accuracy: 0.9997 - auc: 0.9998 - precision: 0.9997 - recall: 0.9997\n",
      "Epoch 25: val_loss improved from 0.09035 to 0.08456, saving model to best_model.h5\n",
      "587/587 [==============================] - 155s 265ms/step - loss: 0.0040 - accuracy: 0.9997 - auc: 0.9998 - precision: 0.9997 - recall: 0.9997 - val_loss: 0.0846 - val_accuracy: 0.9697 - val_auc: 0.9816 - val_precision: 0.9713 - val_recall: 0.9680 - lr: 4.0000e-05\n",
      "Epoch 26/100\n",
      "587/587 [==============================] - ETA: 0s - loss: 0.0035 - accuracy: 0.9997 - auc: 0.9998 - precision: 0.9997 - recall: 0.9997\n",
      "Epoch 26: val_loss improved from 0.08456 to 0.08291, saving model to best_model.h5\n",
      "587/587 [==============================] - 161s 274ms/step - loss: 0.0035 - accuracy: 0.9997 - auc: 0.9998 - precision: 0.9997 - recall: 0.9997 - val_loss: 0.0829 - val_accuracy: 0.9691 - val_auc: 0.9809 - val_precision: 0.9701 - val_recall: 0.9668 - lr: 4.0000e-05\n",
      "Epoch 27/100\n",
      "587/587 [==============================] - ETA: 0s - loss: 0.0031 - accuracy: 0.9997 - auc: 0.9998 - precision: 0.9998 - recall: 0.9997\n",
      "Epoch 27: val_loss improved from 0.08291 to 0.08084, saving model to best_model.h5\n",
      "587/587 [==============================] - 178s 303ms/step - loss: 0.0031 - accuracy: 0.9997 - auc: 0.9998 - precision: 0.9998 - recall: 0.9997 - val_loss: 0.0808 - val_accuracy: 0.9691 - val_auc: 0.9812 - val_precision: 0.9715 - val_recall: 0.9672 - lr: 4.0000e-05\n",
      "Epoch 28/100\n",
      "587/587 [==============================] - ETA: 0s - loss: 0.0028 - accuracy: 0.9998 - auc: 0.9999 - precision: 0.9999 - recall: 0.9998\n",
      "Epoch 28: val_loss did not improve from 0.08084\n",
      "587/587 [==============================] - 168s 286ms/step - loss: 0.0028 - accuracy: 0.9998 - auc: 0.9999 - precision: 0.9999 - recall: 0.9998 - val_loss: 0.0839 - val_accuracy: 0.9700 - val_auc: 0.9817 - val_precision: 0.9718 - val_recall: 0.9680 - lr: 4.0000e-05\n",
      "Epoch 29/100\n",
      "587/587 [==============================] - ETA: 0s - loss: 0.0025 - accuracy: 0.9998 - auc: 0.9999 - precision: 0.9998 - recall: 0.9998\n",
      "Epoch 29: val_loss did not improve from 0.08084\n",
      "587/587 [==============================] - 128s 218ms/step - loss: 0.0025 - accuracy: 0.9998 - auc: 0.9999 - precision: 0.9998 - recall: 0.9998 - val_loss: 0.0916 - val_accuracy: 0.9678 - val_auc: 0.9804 - val_precision: 0.9694 - val_recall: 0.9659 - lr: 4.0000e-05\n",
      "Epoch 30/100\n",
      "587/587 [==============================] - ETA: 0s - loss: 0.0021 - accuracy: 0.9999 - auc: 0.9999 - precision: 0.9999 - recall: 0.9999\n",
      "Epoch 30: val_loss did not improve from 0.08084\n",
      "\n",
      "Epoch 30: ReduceLROnPlateau reducing learning rate to 1e-05.\n",
      "587/587 [==============================] - 119s 203ms/step - loss: 0.0021 - accuracy: 0.9999 - auc: 0.9999 - precision: 0.9999 - recall: 0.9999 - val_loss: 0.0916 - val_accuracy: 0.9685 - val_auc: 0.9806 - val_precision: 0.9700 - val_recall: 0.9661 - lr: 4.0000e-05\n",
      "Epoch 31/100\n",
      "587/587 [==============================] - ETA: 0s - loss: 0.0022 - accuracy: 0.9999 - auc: 0.9999 - precision: 0.9999 - recall: 0.9999\n",
      "Epoch 31: val_loss did not improve from 0.08084\n",
      "587/587 [==============================] - 121s 206ms/step - loss: 0.0022 - accuracy: 0.9999 - auc: 0.9999 - precision: 0.9999 - recall: 0.9999 - val_loss: 0.1077 - val_accuracy: 0.9621 - val_auc: 0.9776 - val_precision: 0.9635 - val_recall: 0.9612 - lr: 1.0000e-05\n",
      "Epoch 32/100\n",
      "587/587 [==============================] - ETA: 0s - loss: 0.0018 - accuracy: 0.9999 - auc: 1.0000 - precision: 0.9999 - recall: 0.9999\n",
      "Epoch 32: val_loss did not improve from 0.08084\n",
      "Restoring model weights from the end of the best epoch: 27.\n",
      "587/587 [==============================] - 123s 209ms/step - loss: 0.0018 - accuracy: 0.9999 - auc: 1.0000 - precision: 0.9999 - recall: 0.9999 - val_loss: 0.1057 - val_accuracy: 0.9625 - val_auc: 0.9776 - val_precision: 0.9639 - val_recall: 0.9612 - lr: 1.0000e-05\n",
      "Epoch 32: early stopping\n"
     ]
    }
   ],
   "source": [
    "#create a function for model training\n",
    "def train_model(MODEL, TRAIN_DATA, EPOCHS, BATCH_SIZE, VAL_DATA):\n",
    "    history = MODEL.fit(TRAIN_DATA, epochs=EPOCHS, batch_size=BATCH_SIZE, validation_data=VAL_DATA, callbacks=[model_checkpoint_callback, reduce_lr_callback, early_stopping_callback])\n",
    "    return history\n",
    "\n",
    "history = train_model(MODEL=my_model, TRAIN_DATA=train_df, EPOCHS=EPOCHS, BATCH_SIZE=BATCH_SIZE, VAL_DATA=val_df)"
   ]
  },
  {
   "cell_type": "markdown",
   "metadata": {},
   "source": [
    "MODEL EVALUATION"
   ]
  },
  {
   "cell_type": "code",
   "execution_count": 32,
   "metadata": {},
   "outputs": [
    {
     "name": "stderr",
     "output_type": "stream",
     "text": [
      "2023-12-24 18:44:19.010202: I tensorflow/core/kernels/data/shuffle_dataset_op.cc:422] ShuffleDatasetV3:20: Filling up shuffle buffer (this may take a while): 1 of 100\n"
     ]
    },
    {
     "name": "stdout",
     "output_type": "stream",
     "text": [
      " 2/74 [..............................] - ETA: 3s - loss: 0.0330 - accuracy: 0.9922 - auc: 0.9915 - precision: 0.9921 - recall: 0.9844   "
     ]
    },
    {
     "name": "stderr",
     "output_type": "stream",
     "text": [
      "2023-12-24 18:44:20.604113: I tensorflow/core/kernels/data/shuffle_dataset_op.cc:452] Shuffle buffer filled.\n"
     ]
    },
    {
     "name": "stdout",
     "output_type": "stream",
     "text": [
      "74/74 [==============================] - 17s 44ms/step - loss: 0.0636 - accuracy: 0.9774 - auc: 0.9867 - precision: 0.9797 - recall: 0.9768\n"
     ]
    }
   ],
   "source": [
    "#testing the model performance on test set\n",
    "score = my_model.evaluate(test_df)"
   ]
  },
  {
   "cell_type": "code",
   "execution_count": 33,
   "metadata": {},
   "outputs": [
    {
     "data": {
      "image/png": "[encoded data removed]",
      "text/plain": [
       "<Figure size 640x480 with 1 Axes>"
      ]
     },
     "metadata": {},
     "output_type": "display_data"
    }
   ],
   "source": [
    "#create a function for checking the model metrics\n",
    "def plot_metrics(HISTORY, METRICS_LIST):\n",
    "    for m in METRICS_LIST:\n",
    "        plt.plot(HISTORY.epoch, HISTORY.history[m], label=m)\n",
    "    plt.legend()\n",
    "    plt.xlabel('Epoch')\n",
    "    plt.title('Training vs Validation Metrics')\n",
    "    plt.ylim()\n",
    "\n",
    "plot_metrics(history, METRICS_LIST)"
   ]
  },
  {
   "cell_type": "markdown",
   "metadata": {},
   "source": [
    "MODEL SAVING"
   ]
  },
  {
   "cell_type": "code",
   "execution_count": 34,
   "metadata": {},
   "outputs": [],
   "source": [
    "#create a function for saving the model in a specified path\n",
    "def save_model(FOLDER_PATH, MODEL):\n",
    "    def find_index(FOLDER_PATH):\n",
    "        index = 0\n",
    "        while os.path.exists(os.path.join(FOLDER_PATH,f'model_{index}.keras')):\n",
    "            index += 1\n",
    "        return index\n",
    "    index = find_index(FOLDER_PATH)\n",
    "    MODEL.save(os.path.join(FOLDER_PATH, f'model_{index}.keras'))\n",
    "\n",
    "save_model('../models/',my_model)"
   ]
  },
  {
   "cell_type": "markdown",
   "metadata": {},
   "source": [
    "MODEL TESTING"
   ]
  },
  {
   "cell_type": "code",
   "execution_count": 5,
   "metadata": {},
   "outputs": [
    {
     "name": "stderr",
     "output_type": "stream",
     "text": [
      "WARNING:absl:At this time, the v2.11+ optimizer `tf.keras.optimizers.Adam` runs slowly on M1/M2 Macs, please use the legacy Keras optimizer instead, located at `tf.keras.optimizers.legacy.Adam`.\n"
     ]
    },
    {
     "name": "stdout",
     "output_type": "stream",
     "text": [
      "Model: \"sequential_3\"\n",
      "_________________________________________________________________\n",
      " Layer (type)                Output Shape              Param #   \n",
      "=================================================================\n",
      " sequential_1 (Sequential)   (None, 100, 75, 3)        0         \n",
      "                                                                 \n",
      " conv2d_3 (Conv2D)           (None, 98, 73, 32)        896       \n",
      "                                                                 \n",
      " batch_normalization_3 (Bat  (None, 98, 73, 32)        128       \n",
      " chNormalization)                                                \n",
      "                                                                 \n",
      " max_pooling2d_3 (MaxPoolin  (None, 49, 36, 32)        0         \n",
      " g2D)                                                            \n",
      "                                                                 \n",
      " conv2d_4 (Conv2D)           (None, 47, 34, 64)        18496     \n",
      "                                                                 \n",
      " batch_normalization_4 (Bat  (None, 47, 34, 64)        256       \n",
      " chNormalization)                                                \n",
      "                                                                 \n",
      " max_pooling2d_4 (MaxPoolin  (None, 23, 17, 64)        0         \n",
      " g2D)                                                            \n",
      "                                                                 \n",
      " conv2d_5 (Conv2D)           (None, 21, 15, 128)       73856     \n",
      "                                                                 \n",
      " batch_normalization_5 (Bat  (None, 21, 15, 128)       512       \n",
      " chNormalization)                                                \n",
      "                                                                 \n",
      " max_pooling2d_5 (MaxPoolin  (None, 10, 7, 128)        0         \n",
      " g2D)                                                            \n",
      "                                                                 \n",
      " flatten_2 (Flatten)         (None, 8960)              0         \n",
      "                                                                 \n",
      " dense_1 (Dense)             (None, 256)               2294016   \n",
      "                                                                 \n",
      " dense_2 (Dense)             (None, 7)                 1799      \n",
      "                                                                 \n",
      "=================================================================\n",
      "Total params: 2389959 (9.12 MB)\n",
      "Trainable params: 2389511 (9.12 MB)\n",
      "Non-trainable params: 448 (1.75 KB)\n",
      "_________________________________________________________________\n"
     ]
    }
   ],
   "source": [
    "model_to_test = tf.keras.models.load_model('/Users/alex/Desktop/projects/SkinCancer/models/model_1.keras')\n",
    "model_to_test.summary()"
   ]
  },
  {
   "cell_type": "code",
   "execution_count": 35,
   "metadata": {},
   "outputs": [
    {
     "name": "stdout",
     "output_type": "stream",
     "text": [
      "1/1 [==============================] - 0s 14ms/step\n"
     ]
    },
    {
     "data": {
      "text/plain": [
       "{'class': 'nv', 'confidence': '99.53%'}"
      ]
     },
     "execution_count": 35,
     "metadata": {},
     "output_type": "execute_result"
    },
    {
     "data": {
      "image/png": "[encoded data removed]",
      "text/plain": [
       "<Figure size 640x480 with 1 Axes>"
      ]
     },
     "metadata": {},
     "output_type": "display_data"
    }
   ],
   "source": [
    "#creating a function that handle prediction\n",
    "def predict(IMAGE, MODEL, CLASS_NAMES):\n",
    "    image = tf.image.resize(IMAGE, [IMAGE_WIDTH, IMAGE_HEIGHT])\n",
    "    img_batch = np.expand_dims(image, 0)\n",
    "    plt.imshow(img_batch[0].astype('uint8'))\n",
    "    plt.axis('off')\n",
    "    predictions = MODEL.predict(img_batch)\n",
    "    predicted_class = CLASS_NAMES[np.argmax(predictions[0])]\n",
    "    confidence = np.max(predictions[0])\n",
    "    return {\n",
    "        'class' : predicted_class,\n",
    "        'confidence' : f'{round(float(confidence*100), 2)}%'\n",
    "    }\n",
    "\n",
    "image = np.array(Image.open('/Users/alex/Desktop/projects/SkinCancer/testing_images/Unknown.jpeg'))\n",
    "predict(image, model_to_test, class_names)"
   ]
  }
 ],
 "metadata": {
  "kernelspec": {
   "display_name": "Python 3",
   "language": "python",
   "name": "python3"
  },
  "language_info": {
   "codemirror_mode": {
    "name": "ipython",
    "version": 3
   },
   "file_extension": ".py",
   "mimetype": "text/x-python",
   "name": "python",
   "nbconvert_exporter": "python",
   "pygments_lexer": "ipython3",
   "version": "3.11.6"
  }
 },
 "nbformat": 4,
 "nbformat_minor": 2
}
